{
 "cells": [
  {
   "cell_type": "markdown",
   "id": "884a1c49-26f0-4b57-a038-dc5cf786603d",
   "metadata": {},
   "source": [
    "## dataClay connection"
   ]
  },
  {
   "cell_type": "code",
   "execution_count": 1,
   "id": "61281bdc-3001-4146-b08d-c3c66ca14dcf",
   "metadata": {},
   "outputs": [
    {
     "name": "stderr",
     "output_type": "stream",
     "text": [
      "/home/alex/BSC/otlp-dataclay-bridge/venv/lib/python3.11/site-packages/pydantic_settings/sources.py:376: UserWarning: directory \"/run/secrets\" does not exist\n",
      "  warnings.warn(f'directory \"{self.secrets_path}\" does not exist')\n",
      "INFO:dataclay.client.api:Starting client runtime\n"
     ]
    },
    {
     "name": "stdout",
     "output_type": "stream",
     "text": [
      "Starting event loop in new thread\n"
     ]
    },
    {
     "name": "stderr",
     "output_type": "stream",
     "text": [
      "INFO:dataclay.backend.client:SSL not configured\n"
     ]
    }
   ],
   "source": [
    "from dataclay import Client\n",
    "from dataclay.config import session_var\n",
    "client = Client(proxy_host=\"127.0.0.1\", dataset=\"admin\")\n",
    "client.start()"
   ]
  },
  {
   "cell_type": "markdown",
   "id": "77d85320-baa2-4452-99fa-8fa05e2f147c",
   "metadata": {},
   "source": [
    "## Prepare bridge configuration"
   ]
  },
  {
   "cell_type": "code",
   "execution_count": 2,
   "id": "f72fce33-af4a-410f-b754-870abb2f08b3",
   "metadata": {},
   "outputs": [
    {
     "name": "stdout",
     "output_type": "stream",
     "text": [
      "Creating new BridgeConfiguration\n"
     ]
    }
   ],
   "source": [
    "import operator\n",
    "from dataclay.exceptions import DataClayException\n",
    "from model.config import BridgeConfiguration, ResourceConfiguration, MatchRule\n",
    "\n",
    "rules: list[MatchRule] = [\n",
    "    (\"service.name\", operator.eq, \"otelcol\"),\n",
    "    (\"service.instance.id\", operator.eq, \"127.0.0.1:8888\")\n",
    "]\n",
    "\n",
    "try:\n",
    "    bc = await BridgeConfiguration.a_get_by_alias(\"bridge_config\")\n",
    "    print(\"BridgeConfiguration is already persistent in dataClay.\")\n",
    "except DataClayException:\n",
    "    print(\"Creating new BridgeConfiguration\")\n",
    "    \n",
    "    bc = BridgeConfiguration()\n",
    "    rc = ResourceConfiguration(\"otel-telemetry-demo\", rules)\n",
    "    rc.add_metric(\"otelcol_process_cpu_seconds\")\n",
    "    rc.add_metric(\"otelcol_rpc_client_duration\")\n",
    "    rc.add_metric(\"otelcol_rpc_client_requests_per_rpc\")\n",
    "    bc.set_res_config(rc)\n",
    "    await bc.a_make_persistent(alias=\"bridge_config\")\n"
   ]
  },
  {
   "cell_type": "code",
   "execution_count": 3,
   "id": "f0525d20-86aa-4474-8ef8-cce30153e7f3",
   "metadata": {},
   "outputs": [
    {
     "data": {
      "text/plain": [
       "{'otel-telemetry-demo': <model.config.ResourceConfiguration instance with ObjectID=c733dea7-637c-46dd-9240-ff82012737bb>}"
      ]
     },
     "execution_count": 3,
     "metadata": {},
     "output_type": "execute_result"
    }
   ],
   "source": [
    "bc.resource_configurations"
   ]
  },
  {
   "cell_type": "code",
   "execution_count": null,
   "id": "0fbc4864-e3ba-4905-acfa-0219d13be7ba",
   "metadata": {},
   "outputs": [],
   "source": []
  }
 ],
 "metadata": {
  "kernelspec": {
   "display_name": "Python 3 (ipykernel)",
   "language": "python",
   "name": "python3"
  },
  "language_info": {
   "codemirror_mode": {
    "name": "ipython",
    "version": 3
   },
   "file_extension": ".py",
   "mimetype": "text/x-python",
   "name": "python",
   "nbconvert_exporter": "python",
   "pygments_lexer": "ipython3",
   "version": "3.11.9"
  }
 },
 "nbformat": 4,
 "nbformat_minor": 5
}
