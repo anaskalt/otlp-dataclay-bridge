{
 "cells": [
  {
   "cell_type": "code",
   "execution_count": 1,
   "id": "fb740e0a-37f1-4777-a53a-0bd28c663be5",
   "metadata": {},
   "outputs": [
    {
     "name": "stderr",
     "output_type": "stream",
     "text": [
      "/home/alex/BSC/otlp-dataclay-bridge/venv/lib/python3.11/site-packages/pydantic_settings/sources.py:376: UserWarning: directory \"/run/secrets\" does not exist\n",
      "  warnings.warn(f'directory \"{self.secrets_path}\" does not exist')\n",
      "INFO:dataclay.client.api:Starting client runtime\n"
     ]
    },
    {
     "name": "stdout",
     "output_type": "stream",
     "text": [
      "Starting event loop in new thread\n"
     ]
    },
    {
     "name": "stderr",
     "output_type": "stream",
     "text": [
      "INFO:dataclay.backend.client:SSL not configured\n"
     ]
    }
   ],
   "source": [
    "from dataclay import Client\n",
    "from dataclay.config import session_var\n",
    "client = Client(proxy_host=\"127.0.0.1\", dataset=\"admin\")\n",
    "client.start()"
   ]
  },
  {
   "cell_type": "markdown",
   "id": "4e3020b4-e9c8-4d2d-8d1a-452728b625a8",
   "metadata": {},
   "source": [
    "## Get TimeSeriesData persistent data structure"
   ]
  },
  {
   "cell_type": "code",
   "execution_count": 2,
   "id": "8c8a68fb-ad46-4a5d-8253-9722694b42aa",
   "metadata": {},
   "outputs": [
    {
     "name": "stdout",
     "output_type": "stream",
     "text": [
      "TimeSeriesData already available, using it.\n"
     ]
    }
   ],
   "source": [
    "from model.timeseries import TimeSeriesData\n",
    "\n",
    "try:\n",
    "    tsd = TimeSeriesData.get_by_alias(\"timeseries\")\n",
    "    print(\"TimeSeriesData already available, using it.\")\n",
    "except DataClayException:\n",
    "    print(\"Creating new TimeSeriesData structure (which the bridge should use)\")\n",
    "\n",
    "    tsd = TimeSeriesData()\n",
    "    tsd.make_persistent(alias=\"timeseries\")"
   ]
  },
  {
   "cell_type": "markdown",
   "id": "b6bdebae-6a87-4fb5-8ace-00571b712574",
   "metadata": {},
   "source": [
    "## Wait for a DataFrame (active wait)\n"
   ]
  },
  {
   "cell_type": "code",
   "execution_count": 13,
   "id": "8daffad0-e21e-4bed-b531-ba605fd5654b",
   "metadata": {},
   "outputs": [],
   "source": [
    "df = tsd.wait_for_dataframe()"
   ]
  },
  {
   "cell_type": "code",
   "execution_count": 14,
   "id": "abca4454-f10b-45ad-a1ed-7400f96c5743",
   "metadata": {},
   "outputs": [
    {
     "data": {
      "text/html": [
       "<div>\n",
       "<style scoped>\n",
       "    .dataframe tbody tr th:only-of-type {\n",
       "        vertical-align: middle;\n",
       "    }\n",
       "\n",
       "    .dataframe tbody tr th {\n",
       "        vertical-align: top;\n",
       "    }\n",
       "\n",
       "    .dataframe thead th {\n",
       "        text-align: right;\n",
       "    }\n",
       "</style>\n",
       "<table border=\"1\" class=\"dataframe\">\n",
       "  <thead>\n",
       "    <tr style=\"text-align: right;\">\n",
       "      <th></th>\n",
       "      <th>otel-telemetry-demo.otelcol_process_cpu_seconds</th>\n",
       "    </tr>\n",
       "  </thead>\n",
       "  <tbody>\n",
       "    <tr>\n",
       "      <th>1719502517901000000</th>\n",
       "      <td>0.42</td>\n",
       "    </tr>\n",
       "    <tr>\n",
       "      <th>1719502522901000000</th>\n",
       "      <td>0.42</td>\n",
       "    </tr>\n",
       "    <tr>\n",
       "      <th>1719502527902000000</th>\n",
       "      <td>0.43</td>\n",
       "    </tr>\n",
       "    <tr>\n",
       "      <th>1719502532901000000</th>\n",
       "      <td>0.43</td>\n",
       "    </tr>\n",
       "    <tr>\n",
       "      <th>1719502537901000000</th>\n",
       "      <td>0.43</td>\n",
       "    </tr>\n",
       "    <tr>\n",
       "      <th>1719502542901000000</th>\n",
       "      <td>0.44</td>\n",
       "    </tr>\n",
       "    <tr>\n",
       "      <th>1719502547901000000</th>\n",
       "      <td>0.44</td>\n",
       "    </tr>\n",
       "    <tr>\n",
       "      <th>1719502552901000000</th>\n",
       "      <td>0.45</td>\n",
       "    </tr>\n",
       "    <tr>\n",
       "      <th>1719502557901000000</th>\n",
       "      <td>0.45</td>\n",
       "    </tr>\n",
       "    <tr>\n",
       "      <th>1719502562901000000</th>\n",
       "      <td>0.45</td>\n",
       "    </tr>\n",
       "    <tr>\n",
       "      <th>1719502567902000000</th>\n",
       "      <td>0.46</td>\n",
       "    </tr>\n",
       "    <tr>\n",
       "      <th>1719502572901000000</th>\n",
       "      <td>0.46</td>\n",
       "    </tr>\n",
       "  </tbody>\n",
       "</table>\n",
       "</div>"
      ],
      "text/plain": [
       "                     otel-telemetry-demo.otelcol_process_cpu_seconds\n",
       "1719502517901000000                                             0.42\n",
       "1719502522901000000                                             0.42\n",
       "1719502527902000000                                             0.43\n",
       "1719502532901000000                                             0.43\n",
       "1719502537901000000                                             0.43\n",
       "1719502542901000000                                             0.44\n",
       "1719502547901000000                                             0.44\n",
       "1719502552901000000                                             0.45\n",
       "1719502557901000000                                             0.45\n",
       "1719502562901000000                                             0.45\n",
       "1719502567902000000                                             0.46\n",
       "1719502572901000000                                             0.46"
      ]
     },
     "execution_count": 14,
     "metadata": {},
     "output_type": "execute_result"
    }
   ],
   "source": [
    "df"
   ]
  },
  {
   "cell_type": "markdown",
   "id": "4ca94586-b321-4558-b0e6-2e5cbfd08caa",
   "metadata": {},
   "source": [
    "## Get DataFrames in the system\n"
   ]
  },
  {
   "cell_type": "code",
   "execution_count": 6,
   "id": "0362b6b0-16f4-458a-8b0a-1497a6e6ed59",
   "metadata": {},
   "outputs": [
    {
     "data": {
      "text/html": [
       "<div>\n",
       "<style scoped>\n",
       "    .dataframe tbody tr th:only-of-type {\n",
       "        vertical-align: middle;\n",
       "    }\n",
       "\n",
       "    .dataframe tbody tr th {\n",
       "        vertical-align: top;\n",
       "    }\n",
       "\n",
       "    .dataframe thead th {\n",
       "        text-align: right;\n",
       "    }\n",
       "</style>\n",
       "<table border=\"1\" class=\"dataframe\">\n",
       "  <thead>\n",
       "    <tr style=\"text-align: right;\">\n",
       "      <th></th>\n",
       "      <th>otel-telemetry-demo.otelcol_process_cpu_seconds</th>\n",
       "    </tr>\n",
       "  </thead>\n",
       "  <tbody>\n",
       "    <tr>\n",
       "      <th>1719502102898000000</th>\n",
       "      <td>0.06</td>\n",
       "    </tr>\n",
       "    <tr>\n",
       "      <th>1719502107901000000</th>\n",
       "      <td>0.06</td>\n",
       "    </tr>\n",
       "    <tr>\n",
       "      <th>1719502112901000000</th>\n",
       "      <td>0.06</td>\n",
       "    </tr>\n",
       "    <tr>\n",
       "      <th>1719502117901000000</th>\n",
       "      <td>0.06</td>\n",
       "    </tr>\n",
       "    <tr>\n",
       "      <th>1719502122901000000</th>\n",
       "      <td>0.07</td>\n",
       "    </tr>\n",
       "    <tr>\n",
       "      <th>1719502127901000000</th>\n",
       "      <td>0.07</td>\n",
       "    </tr>\n",
       "    <tr>\n",
       "      <th>1719502132901000000</th>\n",
       "      <td>0.07</td>\n",
       "    </tr>\n",
       "    <tr>\n",
       "      <th>1719502137901000000</th>\n",
       "      <td>0.07</td>\n",
       "    </tr>\n",
       "    <tr>\n",
       "      <th>1719502142901000000</th>\n",
       "      <td>0.08</td>\n",
       "    </tr>\n",
       "    <tr>\n",
       "      <th>1719502147901000000</th>\n",
       "      <td>0.08</td>\n",
       "    </tr>\n",
       "    <tr>\n",
       "      <th>1719502152901000000</th>\n",
       "      <td>0.09</td>\n",
       "    </tr>\n",
       "  </tbody>\n",
       "</table>\n",
       "</div>"
      ],
      "text/plain": [
       "                     otel-telemetry-demo.otelcol_process_cpu_seconds\n",
       "1719502102898000000                                             0.06\n",
       "1719502107901000000                                             0.06\n",
       "1719502112901000000                                             0.06\n",
       "1719502117901000000                                             0.06\n",
       "1719502122901000000                                             0.07\n",
       "1719502127901000000                                             0.07\n",
       "1719502132901000000                                             0.07\n",
       "1719502137901000000                                             0.07\n",
       "1719502142901000000                                             0.08\n",
       "1719502147901000000                                             0.08\n",
       "1719502152901000000                                             0.09"
      ]
     },
     "execution_count": 6,
     "metadata": {},
     "output_type": "execute_result"
    }
   ],
   "source": [
    "last_df = tsd.get_last_dataframe()\n",
    "last_df"
   ]
  },
  {
   "cell_type": "code",
   "execution_count": 10,
   "id": "594be22d-c20f-4297-a6c5-adc03c74665a",
   "metadata": {},
   "outputs": [
    {
     "data": {
      "text/plain": [
       "2"
      ]
     },
     "execution_count": 10,
     "metadata": {},
     "output_type": "execute_result"
    }
   ],
   "source": [
    "all_dfs = tsd.get_all_dataframes()\n",
    "len(all_dfs)"
   ]
  },
  {
   "cell_type": "code",
   "execution_count": 11,
   "id": "a3aec8c9-ea2a-4626-8533-5db2f7932ffc",
   "metadata": {},
   "outputs": [
    {
     "data": {
      "text/html": [
       "<div>\n",
       "<style scoped>\n",
       "    .dataframe tbody tr th:only-of-type {\n",
       "        vertical-align: middle;\n",
       "    }\n",
       "\n",
       "    .dataframe tbody tr th {\n",
       "        vertical-align: top;\n",
       "    }\n",
       "\n",
       "    .dataframe thead th {\n",
       "        text-align: right;\n",
       "    }\n",
       "</style>\n",
       "<table border=\"1\" class=\"dataframe\">\n",
       "  <thead>\n",
       "    <tr style=\"text-align: right;\">\n",
       "      <th></th>\n",
       "      <th>otel-telemetry-demo.otelcol_process_cpu_seconds</th>\n",
       "    </tr>\n",
       "  </thead>\n",
       "  <tbody>\n",
       "    <tr>\n",
       "      <th>1719502102898000000</th>\n",
       "      <td>0.06</td>\n",
       "    </tr>\n",
       "    <tr>\n",
       "      <th>1719502107901000000</th>\n",
       "      <td>0.06</td>\n",
       "    </tr>\n",
       "    <tr>\n",
       "      <th>1719502112901000000</th>\n",
       "      <td>0.06</td>\n",
       "    </tr>\n",
       "    <tr>\n",
       "      <th>1719502117901000000</th>\n",
       "      <td>0.06</td>\n",
       "    </tr>\n",
       "    <tr>\n",
       "      <th>1719502122901000000</th>\n",
       "      <td>0.07</td>\n",
       "    </tr>\n",
       "    <tr>\n",
       "      <th>1719502127901000000</th>\n",
       "      <td>0.07</td>\n",
       "    </tr>\n",
       "    <tr>\n",
       "      <th>1719502132901000000</th>\n",
       "      <td>0.07</td>\n",
       "    </tr>\n",
       "    <tr>\n",
       "      <th>1719502137901000000</th>\n",
       "      <td>0.07</td>\n",
       "    </tr>\n",
       "    <tr>\n",
       "      <th>1719502142901000000</th>\n",
       "      <td>0.08</td>\n",
       "    </tr>\n",
       "    <tr>\n",
       "      <th>1719502147901000000</th>\n",
       "      <td>0.08</td>\n",
       "    </tr>\n",
       "    <tr>\n",
       "      <th>1719502152901000000</th>\n",
       "      <td>0.09</td>\n",
       "    </tr>\n",
       "  </tbody>\n",
       "</table>\n",
       "</div>"
      ],
      "text/plain": [
       "                     otel-telemetry-demo.otelcol_process_cpu_seconds\n",
       "1719502102898000000                                             0.06\n",
       "1719502107901000000                                             0.06\n",
       "1719502112901000000                                             0.06\n",
       "1719502117901000000                                             0.06\n",
       "1719502122901000000                                             0.07\n",
       "1719502127901000000                                             0.07\n",
       "1719502132901000000                                             0.07\n",
       "1719502137901000000                                             0.07\n",
       "1719502142901000000                                             0.08\n",
       "1719502147901000000                                             0.08\n",
       "1719502152901000000                                             0.09"
      ]
     },
     "execution_count": 11,
     "metadata": {},
     "output_type": "execute_result"
    }
   ],
   "source": [
    "all_dfs[0]"
   ]
  },
  {
   "cell_type": "code",
   "execution_count": 12,
   "id": "afcf67f8-1e5d-4d2f-bf1c-1967d467fb8f",
   "metadata": {},
   "outputs": [
    {
     "data": {
      "text/html": [
       "<div>\n",
       "<style scoped>\n",
       "    .dataframe tbody tr th:only-of-type {\n",
       "        vertical-align: middle;\n",
       "    }\n",
       "\n",
       "    .dataframe tbody tr th {\n",
       "        vertical-align: top;\n",
       "    }\n",
       "\n",
       "    .dataframe thead th {\n",
       "        text-align: right;\n",
       "    }\n",
       "</style>\n",
       "<table border=\"1\" class=\"dataframe\">\n",
       "  <thead>\n",
       "    <tr style=\"text-align: right;\">\n",
       "      <th></th>\n",
       "      <th>otel-telemetry-demo.otelcol_process_cpu_seconds</th>\n",
       "    </tr>\n",
       "  </thead>\n",
       "  <tbody>\n",
       "    <tr>\n",
       "      <th>1719502157901000000</th>\n",
       "      <td>0.09</td>\n",
       "    </tr>\n",
       "    <tr>\n",
       "      <th>1719502162901000000</th>\n",
       "      <td>0.09</td>\n",
       "    </tr>\n",
       "    <tr>\n",
       "      <th>1719502167901000000</th>\n",
       "      <td>0.10</td>\n",
       "    </tr>\n",
       "    <tr>\n",
       "      <th>1719502172901000000</th>\n",
       "      <td>0.10</td>\n",
       "    </tr>\n",
       "    <tr>\n",
       "      <th>1719502177898000000</th>\n",
       "      <td>0.11</td>\n",
       "    </tr>\n",
       "    <tr>\n",
       "      <th>1719502182901000000</th>\n",
       "      <td>0.11</td>\n",
       "    </tr>\n",
       "    <tr>\n",
       "      <th>1719502187901000000</th>\n",
       "      <td>0.11</td>\n",
       "    </tr>\n",
       "    <tr>\n",
       "      <th>1719502192900000000</th>\n",
       "      <td>0.12</td>\n",
       "    </tr>\n",
       "    <tr>\n",
       "      <th>1719502197901000000</th>\n",
       "      <td>0.12</td>\n",
       "    </tr>\n",
       "    <tr>\n",
       "      <th>1719502202901000000</th>\n",
       "      <td>0.13</td>\n",
       "    </tr>\n",
       "    <tr>\n",
       "      <th>1719502207898000000</th>\n",
       "      <td>0.13</td>\n",
       "    </tr>\n",
       "    <tr>\n",
       "      <th>1719502212901000000</th>\n",
       "      <td>0.13</td>\n",
       "    </tr>\n",
       "  </tbody>\n",
       "</table>\n",
       "</div>"
      ],
      "text/plain": [
       "                     otel-telemetry-demo.otelcol_process_cpu_seconds\n",
       "1719502157901000000                                             0.09\n",
       "1719502162901000000                                             0.09\n",
       "1719502167901000000                                             0.10\n",
       "1719502172901000000                                             0.10\n",
       "1719502177898000000                                             0.11\n",
       "1719502182901000000                                             0.11\n",
       "1719502187901000000                                             0.11\n",
       "1719502192900000000                                             0.12\n",
       "1719502197901000000                                             0.12\n",
       "1719502202901000000                                             0.13\n",
       "1719502207898000000                                             0.13\n",
       "1719502212901000000                                             0.13"
      ]
     },
     "execution_count": 12,
     "metadata": {},
     "output_type": "execute_result"
    }
   ],
   "source": [
    "all_dfs[1]"
   ]
  },
  {
   "cell_type": "code",
   "execution_count": null,
   "id": "c219de23-173d-469d-bd39-caf9b5ece6ea",
   "metadata": {},
   "outputs": [],
   "source": []
  }
 ],
 "metadata": {
  "kernelspec": {
   "display_name": "Python 3 (ipykernel)",
   "language": "python",
   "name": "python3"
  },
  "language_info": {
   "codemirror_mode": {
    "name": "ipython",
    "version": 3
   },
   "file_extension": ".py",
   "mimetype": "text/x-python",
   "name": "python",
   "nbconvert_exporter": "python",
   "pygments_lexer": "ipython3",
   "version": "3.11.9"
  }
 },
 "nbformat": 4,
 "nbformat_minor": 5
}
